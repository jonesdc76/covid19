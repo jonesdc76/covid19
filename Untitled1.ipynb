{
 "cells": [
  {
   "cell_type": "code",
   "execution_count": 4,
   "metadata": {},
   "outputs": [],
   "source": [
    "import matplotlib.pyplot as plt\n",
    "import numpy as np\n",
    "from matplotlib import style\n",
    "from dateutil import parser\n",
    "from matplotlib.dates import DateFormatter\n",
    "import pandas as pd"
   ]
  },
  {
   "cell_type": "code",
   "execution_count": 21,
   "metadata": {},
   "outputs": [],
   "source": [
    "df = pd.read_csv('Excess_Deaths_Associated_with_COVID-19.csv')"
   ]
  },
  {
   "cell_type": "code",
   "execution_count": 23,
   "metadata": {},
   "outputs": [],
   "source": [
    "df['Year'] = pd.to_datetime(df['Year'])\n",
    "df.sort_values(by=['Year'], inplace=True)"
   ]
  },
  {
   "cell_type": "code",
   "execution_count": 26,
   "metadata": {},
   "outputs": [],
   "source": [
    "weeks = df.Year.unique()"
   ]
  },
  {
   "cell_type": "code",
   "execution_count": 61,
   "metadata": {},
   "outputs": [
    {
     "data": {
      "image/png": "[encoded data removed]",
      "text/plain": [
       "<Figure size 432x288 with 1 Axes>"
      ]
     },
     "metadata": {
      "needs_background": "light"
     },
     "output_type": "display_data"
    }
   ],
   "source": [
    "sumt = []\n",
    "for i in weeks:\n",
    "    res_df = df.loc[df['Year'] == i]\n",
    "    sumx = res_df.sum(axis=0, skipna = True).loc['Observed Number']\n",
    "    sumt.append(sumx)\n",
    "plt.plot(weeks,sumt)\n",
    "plt.show()"
   ]
  },
  {
   "cell_type": "code",
   "execution_count": 84,
   "metadata": {},
   "outputs": [
    {
     "name": "stdout",
     "output_type": "stream",
     "text": [
      "       Observed Number        Year\n",
      "37367             90.0  12/30/2017\n",
      "15569            132.0  12/30/2017\n",
      "1383             181.0  12/30/2017\n",
      "6919            2958.0  12/30/2017\n",
      "16261           2958.0  12/30/2017\n",
      "33042            564.0  12/30/2017\n",
      "16088            797.0  12/30/2017\n",
      "15915            846.0  12/30/2017\n",
      "33215            235.0  12/30/2017\n",
      "7092             621.0  12/30/2017\n",
      "15742           2743.0  12/30/2017\n",
      "33388           1551.0  12/30/2017\n",
      "1210             662.0  12/30/2017\n",
      "14531            235.0  12/30/2017\n",
      "15396           1982.0  12/30/2017\n",
      "33561            367.0  12/30/2017\n",
      "7265             227.0  12/30/2017\n",
      "15223           1205.0  12/30/2017\n",
      "15050           2097.0  12/30/2017\n",
      "33734           2097.0  12/30/2017\n",
      "14877            367.0  12/30/2017\n",
      "14704           1551.0  12/30/2017\n",
      "33907           1205.0  12/30/2017\n",
      "7438            1010.0  12/30/2017\n",
      "16434            621.0  12/30/2017\n",
      "16607            227.0  12/30/2017\n",
      "32869            356.0  12/30/2017\n",
      "16780           1010.0  12/30/2017\n",
      "31831           1245.0  12/30/2017\n",
      "6227             132.0  12/30/2017\n",
      "...                ...         ...\n",
      "19376           5884.0  01/04/2020\n",
      "19203            672.0  01/04/2020\n",
      "19030           1296.0  01/04/2020\n",
      "23009           1324.0  01/04/2020\n",
      "23182            231.0  01/04/2020\n",
      "23355            345.0  01/04/2020\n",
      "25604            553.0  01/04/2020\n",
      "27334           1172.0  01/04/2020\n",
      "27161           1427.0  01/04/2020\n",
      "26988             92.0  01/04/2020\n",
      "26815            392.0  01/04/2020\n",
      "26642          59710.0  01/04/2020\n",
      "26469           4317.0  01/04/2020\n",
      "26296           1608.0  01/04/2020\n",
      "26123            169.0  01/04/2020\n",
      "25950           1084.0  01/04/2020\n",
      "25777            225.0  01/04/2020\n",
      "25431           2658.0  01/04/2020\n",
      "23528            521.0  01/04/2020\n",
      "25258            735.0  01/04/2020\n",
      "25085            888.0  01/04/2020\n",
      "24912           2539.0  01/04/2020\n",
      "24739            149.0  01/04/2020\n",
      "24566           1996.0  01/04/2020\n",
      "24393           1062.0  01/04/2020\n",
      "24220           2162.0  01/04/2020\n",
      "24047            396.0  01/04/2020\n",
      "23874           1628.0  01/04/2020\n",
      "23701            261.0  01/04/2020\n",
      "18684           1075.0  01/04/2020\n",
      "\n",
      "[37368 rows x 2 columns]\n"
     ]
    }
   ],
   "source": [
    "df2 = pd.read_csv(\"Excess_Deaths_Associated_with_COVID-19.csv\", usecols=[\"Year\",\"Observed Number\"], parse_dates=True, squeeze = True)\n",
    "#df2['Year'] = pd.to_datetime(df['Year'], unit='s')\n",
    "df2.sort_values(by=['Year'], inplace=True, ascending=False)\n",
    "weeks2 = df2.Year.unique()\n",
    "print(df2)"
   ]
  },
  {
   "cell_type": "code",
   "execution_count": 95,
   "metadata": {},
   "outputs": [
    {
     "ename": "AttributeError",
     "evalue": "'function' object has no attribute 'Year'",
     "output_type": "error",
     "traceback": [
      "\u001b[0;31m---------------------------------------------------------------------------\u001b[0m",
      "\u001b[0;31mAttributeError\u001b[0m                            Traceback (most recent call last)",
      "\u001b[0;32m<ipython-input-95-3b546353b0fd>\u001b[0m in \u001b[0;36m<module>\u001b[0;34m()\u001b[0m\n\u001b[0;32m----> 1\u001b[0;31m \u001b[0mdf2\u001b[0m\u001b[0;34m[\u001b[0m\u001b[0;34m'Year'\u001b[0m\u001b[0;34m]\u001b[0m \u001b[0;34m=\u001b[0m \u001b[0mpd\u001b[0m\u001b[0;34m.\u001b[0m\u001b[0mto_datetime\u001b[0m\u001b[0;34m(\u001b[0m\u001b[0mdf2\u001b[0m\u001b[0;34m.\u001b[0m\u001b[0mYear\u001b[0m\u001b[0;34m)\u001b[0m\u001b[0;34m\u001b[0m\u001b[0;34m\u001b[0m\u001b[0m\n\u001b[0m\u001b[1;32m      2\u001b[0m \u001b[0mgroups\u001b[0m \u001b[0;34m=\u001b[0m \u001b[0mdf2\u001b[0m\u001b[0;34m.\u001b[0m\u001b[0mgroupby\u001b[0m\u001b[0;34m(\u001b[0m\u001b[0mpd\u001b[0m\u001b[0;34m.\u001b[0m\u001b[0mGrouper\u001b[0m\u001b[0;34m(\u001b[0m\u001b[0mfreq\u001b[0m\u001b[0;34m=\u001b[0m\u001b[0;34m'A'\u001b[0m\u001b[0;34m)\u001b[0m\u001b[0;34m)\u001b[0m\u001b[0;34m\u001b[0m\u001b[0;34m\u001b[0m\u001b[0m\n\u001b[1;32m      3\u001b[0m \u001b[0myears\u001b[0m \u001b[0;34m=\u001b[0m \u001b[0mpd\u001b[0m\u001b[0;34m.\u001b[0m\u001b[0mDataFrame\u001b[0m\u001b[0;34m(\u001b[0m\u001b[0;34m)\u001b[0m\u001b[0;34m\u001b[0m\u001b[0;34m\u001b[0m\u001b[0m\n\u001b[1;32m      4\u001b[0m \u001b[0;32mfor\u001b[0m \u001b[0mname\u001b[0m\u001b[0;34m,\u001b[0m \u001b[0mgroup\u001b[0m \u001b[0;32min\u001b[0m \u001b[0mgroups\u001b[0m\u001b[0;34m:\u001b[0m\u001b[0;34m\u001b[0m\u001b[0;34m\u001b[0m\u001b[0m\n\u001b[1;32m      5\u001b[0m     \u001b[0mprint\u001b[0m\u001b[0;34m(\u001b[0m\u001b[0mname\u001b[0m\u001b[0;34m,\u001b[0m \u001b[0mgroup\u001b[0m\u001b[0;34m)\u001b[0m\u001b[0;34m\u001b[0m\u001b[0;34m\u001b[0m\u001b[0m\n",
      "\u001b[0;31mAttributeError\u001b[0m: 'function' object has no attribute 'Year'"
     ]
    }
   ],
   "source": [
    "df2 = pd.to_datetime(df2.Year)\n",
    "groups = df2.groupby(pd.Grouper(freq='A'))\n",
    "years = pd.DataFrame()\n",
    "for name, group in groups:\n",
    "    print(name, group)\n",
    "    #years[name.year] = groups.values\n",
    "#year.plot(subplots=True, legend=False)\n",
    "#plt.show()"
   ]
  },
  {
   "cell_type": "code",
   "execution_count": null,
   "metadata": {},
   "outputs": [],
   "source": []
  }
 ],
 "metadata": {
  "kernelspec": {
   "display_name": "Python 3",
   "language": "python",
   "name": "python3"
  },
  "language_info": {
   "codemirror_mode": {
    "name": "ipython",
    "version": 3
   },
   "file_extension": ".py",
   "mimetype": "text/x-python",
   "name": "python",
   "nbconvert_exporter": "python",
   "pygments_lexer": "ipython3",
   "version": "3.7.3"
  }
 },
 "nbformat": 4,
 "nbformat_minor": 2
}
